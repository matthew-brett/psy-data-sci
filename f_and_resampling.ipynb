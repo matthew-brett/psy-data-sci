{
 "cells": [
  {
   "cell_type": "markdown",
   "metadata": {},
   "source": [
    "#  The F test by resampling"
   ]
  },
  {
   "cell_type": "markdown",
   "metadata": {},
   "source": [
    "See also: https://bic-berkeley.github.io/psych-214-fall-2016/hypothesis_tests.html"
   ]
  },
  {
   "cell_type": "code",
   "execution_count": 1,
   "metadata": {
    "collapsed": true
   },
   "outputs": [],
   "source": [
    "# Import numerical, data and plotting libraries\n",
    "import numpy as np\n",
    "import pandas as pd\n",
    "import matplotlib.pyplot as plt\n",
    "plt.style.use('fivethirtyeight')\n",
    "# Only show 6 decimals when printing\n",
    "np.set_printoptions(precision=4)"
   ]
  },
  {
   "cell_type": "code",
   "execution_count": 2,
   "metadata": {
    "collapsed": true
   },
   "outputs": [],
   "source": [
    "%matplotlib inline"
   ]
  },
  {
   "cell_type": "markdown",
   "metadata": {},
   "source": [
    "Our little dataset:"
   ]
  },
  {
   "cell_type": "code",
   "execution_count": 3,
   "metadata": {},
   "outputs": [
    {
     "data": {
      "text/html": [
       "<div>\n",
       "<style scoped>\n",
       "    .dataframe tbody tr th:only-of-type {\n",
       "        vertical-align: middle;\n",
       "    }\n",
       "\n",
       "    .dataframe tbody tr th {\n",
       "        vertical-align: top;\n",
       "    }\n",
       "\n",
       "    .dataframe thead th {\n",
       "        text-align: right;\n",
       "    }\n",
       "</style>\n",
       "<table border=\"1\" class=\"dataframe\">\n",
       "  <thead>\n",
       "    <tr style=\"text-align: right;\">\n",
       "      <th></th>\n",
       "      <th>psychopathy</th>\n",
       "      <th>clammy</th>\n",
       "      <th>university</th>\n",
       "    </tr>\n",
       "  </thead>\n",
       "  <tbody>\n",
       "    <tr>\n",
       "      <th>0</th>\n",
       "      <td>11.416</td>\n",
       "      <td>0.389</td>\n",
       "      <td>Berkeley</td>\n",
       "    </tr>\n",
       "    <tr>\n",
       "      <th>1</th>\n",
       "      <td>4.514</td>\n",
       "      <td>0.200</td>\n",
       "      <td>Berkeley</td>\n",
       "    </tr>\n",
       "    <tr>\n",
       "      <th>2</th>\n",
       "      <td>12.204</td>\n",
       "      <td>0.241</td>\n",
       "      <td>Berkeley</td>\n",
       "    </tr>\n",
       "    <tr>\n",
       "      <th>3</th>\n",
       "      <td>14.835</td>\n",
       "      <td>0.463</td>\n",
       "      <td>Berkeley</td>\n",
       "    </tr>\n",
       "    <tr>\n",
       "      <th>4</th>\n",
       "      <td>8.416</td>\n",
       "      <td>4.585</td>\n",
       "      <td>Stanford</td>\n",
       "    </tr>\n",
       "    <tr>\n",
       "      <th>5</th>\n",
       "      <td>6.563</td>\n",
       "      <td>1.097</td>\n",
       "      <td>Stanford</td>\n",
       "    </tr>\n",
       "    <tr>\n",
       "      <th>6</th>\n",
       "      <td>17.343</td>\n",
       "      <td>1.642</td>\n",
       "      <td>Stanford</td>\n",
       "    </tr>\n",
       "    <tr>\n",
       "      <th>7</th>\n",
       "      <td>13.020</td>\n",
       "      <td>4.972</td>\n",
       "      <td>Stanford</td>\n",
       "    </tr>\n",
       "    <tr>\n",
       "      <th>8</th>\n",
       "      <td>15.190</td>\n",
       "      <td>7.957</td>\n",
       "      <td>MIT</td>\n",
       "    </tr>\n",
       "    <tr>\n",
       "      <th>9</th>\n",
       "      <td>11.902</td>\n",
       "      <td>5.585</td>\n",
       "      <td>MIT</td>\n",
       "    </tr>\n",
       "    <tr>\n",
       "      <th>10</th>\n",
       "      <td>22.721</td>\n",
       "      <td>5.527</td>\n",
       "      <td>MIT</td>\n",
       "    </tr>\n",
       "    <tr>\n",
       "      <th>11</th>\n",
       "      <td>22.324</td>\n",
       "      <td>6.964</td>\n",
       "      <td>MIT</td>\n",
       "    </tr>\n",
       "  </tbody>\n",
       "</table>\n",
       "</div>"
      ],
      "text/plain": [
       "    psychopathy  clammy university\n",
       "0        11.416   0.389   Berkeley\n",
       "1         4.514   0.200   Berkeley\n",
       "2        12.204   0.241   Berkeley\n",
       "3        14.835   0.463   Berkeley\n",
       "4         8.416   4.585   Stanford\n",
       "5         6.563   1.097   Stanford\n",
       "6        17.343   1.642   Stanford\n",
       "7        13.020   4.972   Stanford\n",
       "8        15.190   7.957        MIT\n",
       "9        11.902   5.585        MIT\n",
       "10       22.721   5.527        MIT\n",
       "11       22.324   6.964        MIT"
      ]
     },
     "execution_count": 3,
     "metadata": {},
     "output_type": "execute_result"
    }
   ],
   "source": [
    "psychos = pd.read_csv('psycho_students.csv')\n",
    "psychos"
   ]
  },
  {
   "cell_type": "markdown",
   "metadata": {},
   "source": [
    "The first four students were from Berkeley, the second group of four were from Stanford, and the third group were from MIT."
   ]
  },
  {
   "cell_type": "markdown",
   "metadata": {},
   "source": [
    "First we subtract the mean:"
   ]
  },
  {
   "cell_type": "code",
   "execution_count": 4,
   "metadata": {},
   "outputs": [
    {
     "data": {
      "text/html": [
       "<div>\n",
       "<style scoped>\n",
       "    .dataframe tbody tr th:only-of-type {\n",
       "        vertical-align: middle;\n",
       "    }\n",
       "\n",
       "    .dataframe tbody tr th {\n",
       "        vertical-align: top;\n",
       "    }\n",
       "\n",
       "    .dataframe thead th {\n",
       "        text-align: right;\n",
       "    }\n",
       "</style>\n",
       "<table border=\"1\" class=\"dataframe\">\n",
       "  <thead>\n",
       "    <tr style=\"text-align: right;\">\n",
       "      <th></th>\n",
       "      <th>psychopathy</th>\n",
       "      <th>clammy</th>\n",
       "      <th>university</th>\n",
       "      <th>psy_mean0</th>\n",
       "    </tr>\n",
       "  </thead>\n",
       "  <tbody>\n",
       "    <tr>\n",
       "      <th>0</th>\n",
       "      <td>11.416</td>\n",
       "      <td>0.389</td>\n",
       "      <td>Berkeley</td>\n",
       "      <td>-1.954667</td>\n",
       "    </tr>\n",
       "    <tr>\n",
       "      <th>1</th>\n",
       "      <td>4.514</td>\n",
       "      <td>0.200</td>\n",
       "      <td>Berkeley</td>\n",
       "      <td>-8.856667</td>\n",
       "    </tr>\n",
       "    <tr>\n",
       "      <th>2</th>\n",
       "      <td>12.204</td>\n",
       "      <td>0.241</td>\n",
       "      <td>Berkeley</td>\n",
       "      <td>-1.166667</td>\n",
       "    </tr>\n",
       "    <tr>\n",
       "      <th>3</th>\n",
       "      <td>14.835</td>\n",
       "      <td>0.463</td>\n",
       "      <td>Berkeley</td>\n",
       "      <td>1.464333</td>\n",
       "    </tr>\n",
       "    <tr>\n",
       "      <th>4</th>\n",
       "      <td>8.416</td>\n",
       "      <td>4.585</td>\n",
       "      <td>Stanford</td>\n",
       "      <td>-4.954667</td>\n",
       "    </tr>\n",
       "    <tr>\n",
       "      <th>5</th>\n",
       "      <td>6.563</td>\n",
       "      <td>1.097</td>\n",
       "      <td>Stanford</td>\n",
       "      <td>-6.807667</td>\n",
       "    </tr>\n",
       "    <tr>\n",
       "      <th>6</th>\n",
       "      <td>17.343</td>\n",
       "      <td>1.642</td>\n",
       "      <td>Stanford</td>\n",
       "      <td>3.972333</td>\n",
       "    </tr>\n",
       "    <tr>\n",
       "      <th>7</th>\n",
       "      <td>13.020</td>\n",
       "      <td>4.972</td>\n",
       "      <td>Stanford</td>\n",
       "      <td>-0.350667</td>\n",
       "    </tr>\n",
       "    <tr>\n",
       "      <th>8</th>\n",
       "      <td>15.190</td>\n",
       "      <td>7.957</td>\n",
       "      <td>MIT</td>\n",
       "      <td>1.819333</td>\n",
       "    </tr>\n",
       "    <tr>\n",
       "      <th>9</th>\n",
       "      <td>11.902</td>\n",
       "      <td>5.585</td>\n",
       "      <td>MIT</td>\n",
       "      <td>-1.468667</td>\n",
       "    </tr>\n",
       "    <tr>\n",
       "      <th>10</th>\n",
       "      <td>22.721</td>\n",
       "      <td>5.527</td>\n",
       "      <td>MIT</td>\n",
       "      <td>9.350333</td>\n",
       "    </tr>\n",
       "    <tr>\n",
       "      <th>11</th>\n",
       "      <td>22.324</td>\n",
       "      <td>6.964</td>\n",
       "      <td>MIT</td>\n",
       "      <td>8.953333</td>\n",
       "    </tr>\n",
       "  </tbody>\n",
       "</table>\n",
       "</div>"
      ],
      "text/plain": [
       "    psychopathy  clammy university  psy_mean0\n",
       "0        11.416   0.389   Berkeley  -1.954667\n",
       "1         4.514   0.200   Berkeley  -8.856667\n",
       "2        12.204   0.241   Berkeley  -1.166667\n",
       "3        14.835   0.463   Berkeley   1.464333\n",
       "4         8.416   4.585   Stanford  -4.954667\n",
       "5         6.563   1.097   Stanford  -6.807667\n",
       "6        17.343   1.642   Stanford   3.972333\n",
       "7        13.020   4.972   Stanford  -0.350667\n",
       "8        15.190   7.957        MIT   1.819333\n",
       "9        11.902   5.585        MIT  -1.468667\n",
       "10       22.721   5.527        MIT   9.350333\n",
       "11       22.324   6.964        MIT   8.953333"
      ]
     },
     "execution_count": 4,
     "metadata": {},
     "output_type": "execute_result"
    }
   ],
   "source": [
    "psychopathy = psychos['psychopathy']\n",
    "psychos['psy_mean0'] = psychos['psychopathy'] - psychos['psychopathy'].mean()\n",
    "psychos"
   ]
  },
  {
   "cell_type": "code",
   "execution_count": 5,
   "metadata": {},
   "outputs": [
    {
     "data": {
      "image/png": "[encoded data removed]",
      "text/plain": [
       "<Figure size 432x288 with 1 Axes>"
      ]
     },
     "metadata": {},
     "output_type": "display_data"
    }
   ],
   "source": [
    "plt.plot(psychos['university'], psychos['psy_mean0'], '+')\n",
    "plt.ylabel('Psychopathy mean 0')\n",
    "plt.title('Psychopathy after subtracting overall mean');"
   ]
  },
  {
   "cell_type": "markdown",
   "metadata": {},
   "source": [
    "Now we get the means for each of the groups:"
   ]
  },
  {
   "cell_type": "code",
   "execution_count": 6,
   "metadata": {},
   "outputs": [
    {
     "data": {
      "text/html": [
       "<div>\n",
       "<style scoped>\n",
       "    .dataframe tbody tr th:only-of-type {\n",
       "        vertical-align: middle;\n",
       "    }\n",
       "\n",
       "    .dataframe tbody tr th {\n",
       "        vertical-align: top;\n",
       "    }\n",
       "\n",
       "    .dataframe thead th {\n",
       "        text-align: right;\n",
       "    }\n",
       "</style>\n",
       "<table border=\"1\" class=\"dataframe\">\n",
       "  <thead>\n",
       "    <tr style=\"text-align: right;\">\n",
       "      <th></th>\n",
       "      <th>psychopathy</th>\n",
       "      <th>clammy</th>\n",
       "      <th>psy_mean0</th>\n",
       "    </tr>\n",
       "    <tr>\n",
       "      <th>university</th>\n",
       "      <th></th>\n",
       "      <th></th>\n",
       "      <th></th>\n",
       "    </tr>\n",
       "  </thead>\n",
       "  <tbody>\n",
       "    <tr>\n",
       "      <th>Berkeley</th>\n",
       "      <td>10.74225</td>\n",
       "      <td>0.32325</td>\n",
       "      <td>-2.628417</td>\n",
       "    </tr>\n",
       "    <tr>\n",
       "      <th>MIT</th>\n",
       "      <td>18.03425</td>\n",
       "      <td>6.50825</td>\n",
       "      <td>4.663583</td>\n",
       "    </tr>\n",
       "    <tr>\n",
       "      <th>Stanford</th>\n",
       "      <td>11.33550</td>\n",
       "      <td>3.07400</td>\n",
       "      <td>-2.035167</td>\n",
       "    </tr>\n",
       "  </tbody>\n",
       "</table>\n",
       "</div>"
      ],
      "text/plain": [
       "            psychopathy   clammy  psy_mean0\n",
       "university                                 \n",
       "Berkeley       10.74225  0.32325  -2.628417\n",
       "MIT            18.03425  6.50825   4.663583\n",
       "Stanford       11.33550  3.07400  -2.035167"
      ]
     },
     "execution_count": 6,
     "metadata": {},
     "output_type": "execute_result"
    }
   ],
   "source": [
    "means = psychos.groupby('university').mean()\n",
    "means"
   ]
  },
  {
   "cell_type": "code",
   "execution_count": 7,
   "metadata": {},
   "outputs": [
    {
     "data": {
      "text/plain": [
       "[<matplotlib.lines.Line2D at 0x10a2bcdd8>]"
      ]
     },
     "execution_count": 7,
     "metadata": {},
     "output_type": "execute_result"
    },
    {
     "data": {
      "image/png": "[encoded data removed]",
      "text/plain": [
       "<Figure size 432x288 with 1 Axes>"
      ]
     },
     "metadata": {},
     "output_type": "display_data"
    }
   ],
   "source": [
    "plt.plot(psychos['university'], psychos['psy_mean0'], '+')\n",
    "plt.xlabel('University')\n",
    "plt.ylabel('Psychopathy mean 0')\n",
    "plt.plot(means.index, means['psy_mean0'], 'ro')"
   ]
  },
  {
   "cell_type": "markdown",
   "metadata": {},
   "source": [
    "Next we ask the question - are the means of the groups convincingly different from zero?"
   ]
  },
  {
   "cell_type": "code",
   "execution_count": 8,
   "metadata": {
    "collapsed": true
   },
   "outputs": [],
   "source": [
    "berk_m0, mit_m0, stan_m0 = means['psy_mean0']"
   ]
  },
  {
   "cell_type": "code",
   "execution_count": 9,
   "metadata": {},
   "outputs": [
    {
     "data": {
      "text/plain": [
       "32.79948704166667"
      ]
     },
     "execution_count": 9,
     "metadata": {},
     "output_type": "execute_result"
    }
   ],
   "source": [
    "sum_sq_mean = (berk_m0 ** 2 + \n",
    "               mit_m0 ** 2 + \n",
    "               stan_m0 ** 2)\n",
    "sum_sq_mean"
   ]
  },
  {
   "cell_type": "markdown",
   "metadata": {},
   "source": [
    "We are going to work out the sampling distribution, by doing a random shuffle of values across the groups."
   ]
  },
  {
   "cell_type": "code",
   "execution_count": 10,
   "metadata": {},
   "outputs": [
    {
     "data": {
      "text/plain": [
       "[-1.954666666666668,\n",
       " -8.856666666666667,\n",
       " -1.166666666666666,\n",
       " 1.4643333333333342,\n",
       " -4.954666666666666,\n",
       " -6.807666666666667,\n",
       " 3.9723333333333333,\n",
       " -0.3506666666666671,\n",
       " 1.8193333333333328,\n",
       " -1.4686666666666657,\n",
       " 9.350333333333333,\n",
       " 8.953333333333335]"
      ]
     },
     "execution_count": 10,
     "metadata": {},
     "output_type": "execute_result"
    }
   ],
   "source": [
    "fake_psych_m0 = list(psychos['psy_mean0'])\n",
    "fake_psych_m0"
   ]
  },
  {
   "cell_type": "code",
   "execution_count": 11,
   "metadata": {},
   "outputs": [
    {
     "data": {
      "text/plain": [
       "[3.9723333333333333,\n",
       " 1.8193333333333328,\n",
       " -1.166666666666666,\n",
       " 8.953333333333335,\n",
       " 1.4643333333333342,\n",
       " 9.350333333333333,\n",
       " -8.856666666666667,\n",
       " -0.3506666666666671,\n",
       " -4.954666666666666,\n",
       " -6.807666666666667,\n",
       " -1.4686666666666657,\n",
       " -1.954666666666668]"
      ]
     },
     "execution_count": 11,
     "metadata": {},
     "output_type": "execute_result"
    }
   ],
   "source": [
    "from random import shuffle\n",
    "shuffle(fake_psych_m0)\n",
    "fake_psych_m0"
   ]
  },
  {
   "cell_type": "markdown",
   "metadata": {},
   "source": [
    "Let's get the sampling distribution:"
   ]
  },
  {
   "cell_type": "code",
   "execution_count": 12,
   "metadata": {
    "collapsed": true
   },
   "outputs": [],
   "source": [
    "fake_sum_sq_means = []\n",
    "for i in range(10000):\n",
    "    np.random.shuffle(fake_psych_m0)\n",
    "    s_s_m = (np.mean(fake_psych_m0[:4]) ** 2 + \n",
    "             np.mean(fake_psych_m0[4:8]) ** 2 + \n",
    "             np.mean(fake_psych_m0[8:]) ** 2)\n",
    "    fake_sum_sq_means.append(s_s_m)"
   ]
  },
  {
   "cell_type": "code",
   "execution_count": 13,
   "metadata": {},
   "outputs": [
    {
     "data": {
      "image/png": "[encoded data removed]",
      "text/plain": [
       "<Figure size 432x288 with 1 Axes>"
      ]
     },
     "metadata": {},
     "output_type": "display_data"
    }
   ],
   "source": [
    "plt.hist(fake_sum_sq_means, bins=50);"
   ]
  },
  {
   "cell_type": "markdown",
   "metadata": {},
   "source": [
    "What proportion of the sampling distribution is at or above the value that we saw?"
   ]
  },
  {
   "cell_type": "code",
   "execution_count": 14,
   "metadata": {},
   "outputs": [
    {
     "data": {
      "text/plain": [
       "0.1285"
      ]
     },
     "execution_count": 14,
     "metadata": {},
     "output_type": "execute_result"
    }
   ],
   "source": [
    "n_gt_eq = np.sum(np.array(fake_sum_sq_means) >= sum_sq_mean)\n",
    "p_gt_eq = n_gt_eq / 10000\n",
    "p_gt_eq"
   ]
  }
 ],
 "metadata": {
  "kernelspec": {
   "display_name": "Python 3",
   "language": "python",
   "name": "python3"
  },
  "language_info": {
   "codemirror_mode": {
    "name": "ipython",
    "version": 3
   },
   "file_extension": ".py",
   "mimetype": "text/x-python",
   "name": "python",
   "nbconvert_exporter": "python",
   "pygments_lexer": "ipython3",
   "version": "3.5.1"
  }
 },
 "nbformat": 4,
 "nbformat_minor": 2
}
