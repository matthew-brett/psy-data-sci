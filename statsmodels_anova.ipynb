{
 "cells": [
  {
   "cell_type": "markdown",
   "metadata": {},
   "source": [
    "# More traditional statistics - one way F"
   ]
  },
  {
   "cell_type": "code",
   "execution_count": 1,
   "metadata": {
    "collapsed": true
   },
   "outputs": [],
   "source": [
    "# Import numerical, data and plotting libraries\n",
    "import numpy as np\n",
    "import pandas as pd\n",
    "import matplotlib.pyplot as plt\n",
    "# Only show 6 decimals when printing\n",
    "np.set_printoptions(precision=4)"
   ]
  },
  {
   "cell_type": "code",
   "execution_count": 2,
   "metadata": {
    "collapsed": true
   },
   "outputs": [],
   "source": [
    "%matplotlib inline"
   ]
  },
  {
   "cell_type": "code",
   "execution_count": 3,
   "metadata": {},
   "outputs": [],
   "source": [
    "# The statistics library\n",
    "from statsmodels.formula.api import ols"
   ]
  },
  {
   "cell_type": "code",
   "execution_count": 4,
   "metadata": {},
   "outputs": [
    {
     "data": {
      "text/html": [
       "<div>\n",
       "<style scoped>\n",
       "    .dataframe tbody tr th:only-of-type {\n",
       "        vertical-align: middle;\n",
       "    }\n",
       "\n",
       "    .dataframe tbody tr th {\n",
       "        vertical-align: top;\n",
       "    }\n",
       "\n",
       "    .dataframe thead th {\n",
       "        text-align: right;\n",
       "    }\n",
       "</style>\n",
       "<table border=\"1\" class=\"dataframe\">\n",
       "  <thead>\n",
       "    <tr style=\"text-align: right;\">\n",
       "      <th></th>\n",
       "      <th>psychopathy</th>\n",
       "      <th>clammy</th>\n",
       "      <th>university</th>\n",
       "    </tr>\n",
       "  </thead>\n",
       "  <tbody>\n",
       "    <tr>\n",
       "      <th>0</th>\n",
       "      <td>11.416</td>\n",
       "      <td>0.389</td>\n",
       "      <td>Berkeley</td>\n",
       "    </tr>\n",
       "    <tr>\n",
       "      <th>1</th>\n",
       "      <td>4.514</td>\n",
       "      <td>0.200</td>\n",
       "      <td>Berkeley</td>\n",
       "    </tr>\n",
       "    <tr>\n",
       "      <th>2</th>\n",
       "      <td>12.204</td>\n",
       "      <td>0.241</td>\n",
       "      <td>Berkeley</td>\n",
       "    </tr>\n",
       "    <tr>\n",
       "      <th>3</th>\n",
       "      <td>14.835</td>\n",
       "      <td>0.463</td>\n",
       "      <td>Berkeley</td>\n",
       "    </tr>\n",
       "    <tr>\n",
       "      <th>4</th>\n",
       "      <td>8.416</td>\n",
       "      <td>4.585</td>\n",
       "      <td>Stanford</td>\n",
       "    </tr>\n",
       "    <tr>\n",
       "      <th>5</th>\n",
       "      <td>6.563</td>\n",
       "      <td>1.097</td>\n",
       "      <td>Stanford</td>\n",
       "    </tr>\n",
       "    <tr>\n",
       "      <th>6</th>\n",
       "      <td>17.343</td>\n",
       "      <td>1.642</td>\n",
       "      <td>Stanford</td>\n",
       "    </tr>\n",
       "    <tr>\n",
       "      <th>7</th>\n",
       "      <td>13.020</td>\n",
       "      <td>4.972</td>\n",
       "      <td>Stanford</td>\n",
       "    </tr>\n",
       "    <tr>\n",
       "      <th>8</th>\n",
       "      <td>15.190</td>\n",
       "      <td>7.957</td>\n",
       "      <td>MIT</td>\n",
       "    </tr>\n",
       "    <tr>\n",
       "      <th>9</th>\n",
       "      <td>11.902</td>\n",
       "      <td>5.585</td>\n",
       "      <td>MIT</td>\n",
       "    </tr>\n",
       "    <tr>\n",
       "      <th>10</th>\n",
       "      <td>22.721</td>\n",
       "      <td>5.527</td>\n",
       "      <td>MIT</td>\n",
       "    </tr>\n",
       "    <tr>\n",
       "      <th>11</th>\n",
       "      <td>22.324</td>\n",
       "      <td>6.964</td>\n",
       "      <td>MIT</td>\n",
       "    </tr>\n",
       "  </tbody>\n",
       "</table>\n",
       "</div>"
      ],
      "text/plain": [
       "    psychopathy  clammy university\n",
       "0        11.416   0.389   Berkeley\n",
       "1         4.514   0.200   Berkeley\n",
       "2        12.204   0.241   Berkeley\n",
       "3        14.835   0.463   Berkeley\n",
       "4         8.416   4.585   Stanford\n",
       "5         6.563   1.097   Stanford\n",
       "6        17.343   1.642   Stanford\n",
       "7        13.020   4.972   Stanford\n",
       "8        15.190   7.957        MIT\n",
       "9        11.902   5.585        MIT\n",
       "10       22.721   5.527        MIT\n",
       "11       22.324   6.964        MIT"
      ]
     },
     "execution_count": 4,
     "metadata": {},
     "output_type": "execute_result"
    }
   ],
   "source": [
    "psychos = pd.read_csv('psycho_students.csv')\n",
    "psychos"
   ]
  },
  {
   "cell_type": "code",
   "execution_count": 5,
   "metadata": {},
   "outputs": [
    {
     "data": {
      "text/plain": [
       "<matplotlib.collections.PathCollection at 0x10baacc50>"
      ]
     },
     "execution_count": 5,
     "metadata": {},
     "output_type": "execute_result"
    },
    {
     "data": {
      "image/png": "[encoded data removed]",
      "text/plain": [
       "<Figure size 432x288 with 1 Axes>"
      ]
     },
     "metadata": {},
     "output_type": "display_data"
    }
   ],
   "source": [
    "plt.scatter(psychos['university'], psychos['psychopathy'])"
   ]
  },
  {
   "cell_type": "code",
   "execution_count": 6,
   "metadata": {},
   "outputs": [
    {
     "data": {
      "text/html": [
       "<div>\n",
       "<style scoped>\n",
       "    .dataframe tbody tr th:only-of-type {\n",
       "        vertical-align: middle;\n",
       "    }\n",
       "\n",
       "    .dataframe tbody tr th {\n",
       "        vertical-align: top;\n",
       "    }\n",
       "\n",
       "    .dataframe thead th {\n",
       "        text-align: right;\n",
       "    }\n",
       "</style>\n",
       "<table border=\"1\" class=\"dataframe\">\n",
       "  <thead>\n",
       "    <tr style=\"text-align: right;\">\n",
       "      <th></th>\n",
       "      <th>psychopathy</th>\n",
       "      <th>clammy</th>\n",
       "    </tr>\n",
       "    <tr>\n",
       "      <th>university</th>\n",
       "      <th></th>\n",
       "      <th></th>\n",
       "    </tr>\n",
       "  </thead>\n",
       "  <tbody>\n",
       "    <tr>\n",
       "      <th>Berkeley</th>\n",
       "      <td>10.74225</td>\n",
       "      <td>0.32325</td>\n",
       "    </tr>\n",
       "    <tr>\n",
       "      <th>MIT</th>\n",
       "      <td>18.03425</td>\n",
       "      <td>6.50825</td>\n",
       "    </tr>\n",
       "    <tr>\n",
       "      <th>Stanford</th>\n",
       "      <td>11.33550</td>\n",
       "      <td>3.07400</td>\n",
       "    </tr>\n",
       "  </tbody>\n",
       "</table>\n",
       "</div>"
      ],
      "text/plain": [
       "            psychopathy   clammy\n",
       "university                      \n",
       "Berkeley       10.74225  0.32325\n",
       "MIT            18.03425  6.50825\n",
       "Stanford       11.33550  3.07400"
      ]
     },
     "execution_count": 6,
     "metadata": {},
     "output_type": "execute_result"
    }
   ],
   "source": [
    "means = psychos.groupby('university').mean()\n",
    "means"
   ]
  },
  {
   "cell_type": "code",
   "execution_count": 7,
   "metadata": {},
   "outputs": [
    {
     "data": {
      "text/plain": [
       "[<matplotlib.lines.Line2D at 0x10bca2160>]"
      ]
     },
     "execution_count": 7,
     "metadata": {},
     "output_type": "execute_result"
    },
    {
     "data": {
      "image/png": "[encoded data removed]",
      "text/plain": [
       "<Figure size 432x288 with 1 Axes>"
      ]
     },
     "metadata": {},
     "output_type": "display_data"
    }
   ],
   "source": [
    "plt.scatter(psychos['university'], psychos['psychopathy'])\n",
    "plt.plot(means.index, means.psychopathy, 'rx')"
   ]
  },
  {
   "cell_type": "code",
   "execution_count": 8,
   "metadata": {},
   "outputs": [
    {
     "name": "stderr",
     "output_type": "stream",
     "text": [
      "/Users/mb312/Library/Python/3.5/lib/python/site-packages/scipy/stats/stats.py:1557: UserWarning: kurtosistest only valid for n>=20 ... continuing anyway, n=12\n",
      "  \"anyway, n=%i\" % int(n))\n"
     ]
    },
    {
     "data": {
      "text/html": [
       "<table class=\"simpletable\">\n",
       "<caption>OLS Regression Results</caption>\n",
       "<tr>\n",
       "  <th>Dep. Variable:</th>       <td>psychopathy</td>   <th>  R-squared:         </th> <td>   0.380</td>\n",
       "</tr>\n",
       "<tr>\n",
       "  <th>Model:</th>                   <td>OLS</td>       <th>  Adj. R-squared:    </th> <td>   0.242</td>\n",
       "</tr>\n",
       "<tr>\n",
       "  <th>Method:</th>             <td>Least Squares</td>  <th>  F-statistic:       </th> <td>   2.753</td>\n",
       "</tr>\n",
       "<tr>\n",
       "  <th>Date:</th>             <td>Tue, 10 Apr 2018</td> <th>  Prob (F-statistic):</th>  <td> 0.117</td> \n",
       "</tr>\n",
       "<tr>\n",
       "  <th>Time:</th>                 <td>22:45:30</td>     <th>  Log-Likelihood:    </th> <td> -34.325</td>\n",
       "</tr>\n",
       "<tr>\n",
       "  <th>No. Observations:</th>      <td>    12</td>      <th>  AIC:               </th> <td>   74.65</td>\n",
       "</tr>\n",
       "<tr>\n",
       "  <th>Df Residuals:</th>          <td>     9</td>      <th>  BIC:               </th> <td>   76.11</td>\n",
       "</tr>\n",
       "<tr>\n",
       "  <th>Df Model:</th>              <td>     2</td>      <th>                     </th>     <td> </td>   \n",
       "</tr>\n",
       "<tr>\n",
       "  <th>Covariance Type:</th>      <td>nonrobust</td>    <th>                     </th>     <td> </td>   \n",
       "</tr>\n",
       "</table>\n",
       "<table class=\"simpletable\">\n",
       "<tr>\n",
       "             <td></td>               <th>coef</th>     <th>std err</th>      <th>t</th>      <th>P>|t|</th>  <th>[0.025</th>    <th>0.975]</th>  \n",
       "</tr>\n",
       "<tr>\n",
       "  <th>Intercept</th>              <td>   10.7423</td> <td>    2.441</td> <td>    4.402</td> <td> 0.002</td> <td>    5.221</td> <td>   16.263</td>\n",
       "</tr>\n",
       "<tr>\n",
       "  <th>university[T.MIT]</th>      <td>    7.2920</td> <td>    3.451</td> <td>    2.113</td> <td> 0.064</td> <td>   -0.516</td> <td>   15.100</td>\n",
       "</tr>\n",
       "<tr>\n",
       "  <th>university[T.Stanford]</th> <td>    0.5932</td> <td>    3.451</td> <td>    0.172</td> <td> 0.867</td> <td>   -7.214</td> <td>    8.401</td>\n",
       "</tr>\n",
       "</table>\n",
       "<table class=\"simpletable\">\n",
       "<tr>\n",
       "  <th>Omnibus:</th>       <td> 3.060</td> <th>  Durbin-Watson:     </th> <td>   2.097</td>\n",
       "</tr>\n",
       "<tr>\n",
       "  <th>Prob(Omnibus):</th> <td> 0.217</td> <th>  Jarque-Bera (JB):  </th> <td>   1.088</td>\n",
       "</tr>\n",
       "<tr>\n",
       "  <th>Skew:</th>          <td>-0.169</td> <th>  Prob(JB):          </th> <td>   0.580</td>\n",
       "</tr>\n",
       "<tr>\n",
       "  <th>Kurtosis:</th>      <td> 1.564</td> <th>  Cond. No.          </th> <td>    3.73</td>\n",
       "</tr>\n",
       "</table>"
      ],
      "text/plain": [
       "<class 'statsmodels.iolib.summary.Summary'>\n",
       "\"\"\"\n",
       "                            OLS Regression Results                            \n",
       "==============================================================================\n",
       "Dep. Variable:            psychopathy   R-squared:                       0.380\n",
       "Model:                            OLS   Adj. R-squared:                  0.242\n",
       "Method:                 Least Squares   F-statistic:                     2.753\n",
       "Date:                Tue, 10 Apr 2018   Prob (F-statistic):              0.117\n",
       "Time:                        22:45:30   Log-Likelihood:                -34.325\n",
       "No. Observations:                  12   AIC:                             74.65\n",
       "Df Residuals:                       9   BIC:                             76.11\n",
       "Df Model:                           2                                         \n",
       "Covariance Type:            nonrobust                                         \n",
       "==========================================================================================\n",
       "                             coef    std err          t      P>|t|      [0.025      0.975]\n",
       "------------------------------------------------------------------------------------------\n",
       "Intercept                 10.7423      2.441      4.402      0.002       5.221      16.263\n",
       "university[T.MIT]          7.2920      3.451      2.113      0.064      -0.516      15.100\n",
       "university[T.Stanford]     0.5932      3.451      0.172      0.867      -7.214       8.401\n",
       "==============================================================================\n",
       "Omnibus:                        3.060   Durbin-Watson:                   2.097\n",
       "Prob(Omnibus):                  0.217   Jarque-Bera (JB):                1.088\n",
       "Skew:                          -0.169   Prob(JB):                        0.580\n",
       "Kurtosis:                       1.564   Cond. No.                         3.73\n",
       "==============================================================================\n",
       "\n",
       "Warnings:\n",
       "[1] Standard Errors assume that the covariance matrix of the errors is correctly specified.\n",
       "\"\"\""
      ]
     },
     "execution_count": 8,
     "metadata": {},
     "output_type": "execute_result"
    }
   ],
   "source": [
    "formula = 'psychopathy ~ university'\n",
    "lm = ols(formula, psychos).fit()\n",
    "lm.summary()"
   ]
  },
  {
   "cell_type": "markdown",
   "metadata": {},
   "source": [
    "$$\n",
    "\\newcommand{Xmat}{\\boldsymbol X}\n",
    "$$\n",
    "The F test needs a *full model* and a *reduced model*.  Call the full model $\\Xmat_f$ and the reduced model $\\Xmat_r$.  The formula for the F test is:\n",
    "\n",
    "$$\n",
    "F_{\\nu_1, \\nu_2} =\n",
    "    \\frac{\n",
    "    (\\textrm{SSR}(\\Xmat_r) - \\textrm{SSR}(\\Xmat_f)) / \\nu_1}\n",
    "    {\\textrm{SSR}(\\Xmat_f) / \\nu_2}\n",
    "$$\n",
    "\n",
    "where $\\nu_1$ is called the *numerator degrees of freedom*, and $\\nu_2$ is the *denominator degrees of freedom* or the *degrees of freedom of the error*.\n",
    "\n",
    "$\\nu_2$ is also the degrees of freedom for the full model.  $\\nu_1$ is given by $d - \\nu_2$ where $d$ is the degrees of freedom from the reduced model."
   ]
  }
 ],
 "metadata": {
  "kernelspec": {
   "display_name": "Python 3",
   "language": "python",
   "name": "python3"
  },
  "language_info": {
   "codemirror_mode": {
    "name": "ipython",
    "version": 3
   },
   "file_extension": ".py",
   "mimetype": "text/x-python",
   "name": "python",
   "nbconvert_exporter": "python",
   "pygments_lexer": "ipython3",
   "version": "3.5.1"
  }
 },
 "nbformat": 4,
 "nbformat_minor": 2
}
